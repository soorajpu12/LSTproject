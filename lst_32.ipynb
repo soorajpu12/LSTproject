{
  "nbformat": 4,
  "nbformat_minor": 0,
  "metadata": {
    "colab": {
      "name": "lst_32.ipynb",
      "provenance": [],
      "authorship_tag": "ABX9TyOzdkFSNvf7XsLpfQnVaKPC",
      "include_colab_link": true
    },
    "kernelspec": {
      "name": "python3",
      "display_name": "Python 3"
    }
  },
  "cells": [
    {
      "cell_type": "markdown",
      "metadata": {
        "id": "view-in-github",
        "colab_type": "text"
      },
      "source": [
        "<a href=\"https://colab.research.google.com/github/soorajpu12/LSTproject/blob/master/lst_32.ipynb\" target=\"_parent\"><img src=\"https://colab.research.google.com/assets/colab-badge.svg\" alt=\"Open In Colab\"/></a>"
      ]
    },
    {
      "cell_type": "code",
      "metadata": {
        "id": "iXgYNBUYts9n",
        "colab_type": "code",
        "colab": {}
      },
      "source": [
        "import numpy as np\n",
        "import matplotlib.pyplot as plt\n",
        "import matplotlib.image as mpimg\n",
        "from osgeo import gdal\n",
        "from osgeo import osr"
      ],
      "execution_count": 0,
      "outputs": []
    },
    {
      "cell_type": "code",
      "metadata": {
        "id": "DAvQuSVduFGQ",
        "colab_type": "code",
        "colab": {}
      },
      "source": [
        "def emmissivity_NDVI(NDVI):\n",
        "        emissivity = np.zeros(NDVI.shape)\n",
        "        m, n = np.where((NDVI >= 0.2) & (NDVI <= 0.5))   \n",
        "    \n",
        "        # Set values in emissivity matrix based on NDVI matrix value with same index\n",
        "        \n",
        "        emissivity[m, n] = (0.004*(((NDVI[m, n] - 0.2)/(0.5 - 0.2))**2)) + 0.986\n",
        "        return emissivity"
      ],
      "execution_count": 0,
      "outputs": []
    }
  ]
}