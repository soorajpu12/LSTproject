{
  "nbformat": 4,
  "nbformat_minor": 0,
  "metadata": {
    "colab": {
      "name": "LSTimage.ipynb",
      "provenance": [],
      "authorship_tag": "ABX9TyM8VbdKv1CwGbRYspc/Txbq",
      "include_colab_link": true
    },
    "kernelspec": {
      "name": "python3",
      "display_name": "Python 3"
    }
  },
  "cells": [
    {
      "cell_type": "markdown",
      "metadata": {
        "id": "view-in-github",
        "colab_type": "text"
      },
      "source": [
        "<a href=\"https://colab.research.google.com/github/soorajpu12/LSTproject/blob/master/LSTimage.ipynb\" target=\"_parent\"><img src=\"https://colab.research.google.com/assets/colab-badge.svg\" alt=\"Open In Colab\"/></a>"
      ]
    },
    {
      "cell_type": "code",
      "metadata": {
        "id": "TvggK9ELV5e4",
        "colab_type": "code",
        "colab": {}
      },
      "source": [
        "import numpy as np\n",
        "import matplotlib.pyplot as plt\n",
        "import matplotlib.image as mpimg\n",
        "from osgeo import gdal\n",
        "from osgeo import osr\n",
        "from PIL import Image"
      ],
      "execution_count": 0,
      "outputs": []
    },
    {
      "cell_type": "code",
      "metadata": {
        "id": "VeBHd3CwV74q",
        "colab_type": "code",
        "colab": {}
      },
      "source": [
        "# Read GeoTiff and convert numpy.array to GeoTiff (https://gist.github.com/jkatagi/a1207eee32463efd06fb57676dcf86c8)\n",
        "\n",
        "def array2raster(newRasterfn, dataset, array, dtype):\n",
        "    '''\n",
        "        newRasterfn: file name\n",
        "        dataset : Level 1 quantized and calibrated scaled Digital Numbers (DN) TIR band data (e.g Band 10 landsat 8 data)\n",
        "        array : LST array (numpy array)\n",
        "    '''\n",
        "\n",
        "    cols = array.shape[1]\n",
        "    rows = array.shape[0]\n",
        "    originX, pixelWidth, b, originY, d, pixelHeight = dataset.GetGeoTransform()\n",
        "\n",
        "    # set data type to save.\n",
        "    GDT_dtype = gdal.GDT_Float32\n",
        "    \n",
        "    # set number of band.\n",
        "    if array.ndim == 2:\n",
        "        band_num = 1\n",
        "    else:\n",
        "        band_num = array.shape[2]\n",
        "\n",
        "    outRaster = driver.Create(newRasterfn, cols, rows, band_num, GDT_dtype)\n",
        "    outRaster.SetGeoTransform((originX, pixelWidth, 0, originY, 0, pixelHeight))\n",
        "\n",
        "    # Loop over all bands.\n",
        "    for b in range(band_num):\n",
        "        outband = outRaster.GetRasterBand(b + 1)\n",
        "        # Read in the band's data into the third dimension of our array\n",
        "        if band_num == 1:\n",
        "            outband.WriteArray(array)\n",
        "        else:\n",
        "            outband.WriteArray(array[:,:,b])"
      ],
      "execution_count": 0,
      "outputs": []
    }
  ]
}