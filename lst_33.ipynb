{
  "nbformat": 4,
  "nbformat_minor": 0,
  "metadata": {
    "colab": {
      "name": "lst_33.ipynb",
      "provenance": [],
      "authorship_tag": "ABX9TyPMttjQjHOo7xP8oYMfHmhd",
      "include_colab_link": true
    },
    "kernelspec": {
      "name": "python3",
      "display_name": "Python 3"
    }
  },
  "cells": [
    {
      "cell_type": "markdown",
      "metadata": {
        "id": "view-in-github",
        "colab_type": "text"
      },
      "source": [
        "<a href=\"https://colab.research.google.com/github/soorajpu12/LSTproject/blob/master/lst_33.ipynb\" target=\"_parent\"><img src=\"https://colab.research.google.com/assets/colab-badge.svg\" alt=\"Open In Colab\"/></a>"
      ]
    },
    {
      "cell_type": "code",
      "metadata": {
        "id": "xleHtV-S4dDI",
        "colab_type": "code",
        "colab": {}
      },
      "source": [
        "import numpy as np\n",
        "import matplotlib.pyplot as plt\n",
        "import matplotlib.image as mpimg\n",
        "from osgeo import gdal\n",
        "from osgeo import osr\n",
        "from PIL import Image"
      ],
      "execution_count": 0,
      "outputs": []
    },
    {
      "cell_type": "code",
      "metadata": {
        "id": "wQVH4vjf5g5E",
        "colab_type": "code",
        "colab": {}
      },
      "source": [
        "def compute_LST_mono_window(lst_31, emissivity):       \n",
        "    \n",
        "    land_surface_temp = lst_31 / (1 + (((0.0000115 * lst_31) / 14380) * np.log(emissivity)))\n",
        "    return land_surface_temp"
      ],
      "execution_count": 0,
      "outputs": []
    }
  ]
}